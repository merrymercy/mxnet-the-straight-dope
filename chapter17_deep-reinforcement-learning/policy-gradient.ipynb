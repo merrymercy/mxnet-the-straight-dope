{
 "cells": [
  {
   "cell_type": "markdown",
   "metadata": {},
   "source": [
    "# Policy Gradient\n",
    "\n",
    "In this tutorial, we will present the idea of policy gradient, and show how to use gluon to implement a policy gradient agent.\n",
    "To make things easy, we only solve a simple environment CartPole in this jupyter notebook (4 mins on MacBook Pro). But the code for more complex environment like Atari game Pong is also provided. You can try it if you are interested.\n",
    "\n",
    "\n",
    "## Preliminaries\n",
    "\n",
    "We use the popular toolkit OpenAI Gym as our environment. Use the following commonds to install OpenAI gym.\n",
    "```bash\n",
    "pip install gym\n",
    "pip install gym[atari]\n",
    "```\n",
    "Full documentation for the gym can be found on at [this website](https://gym.openai.com/).\n",
    "\n",
    "## Policy Gradient Theorem\n",
    "\n",
    "This section briefly introduces the theorem behind the update rule of policy gradient. We want to optimize our policy so that to maximize long-term reward.\n",
    "\n",
    "Consider a simple one-step MDP (Markov Decission Precess). It starts in state $s \\sim d(s)$, and termiates after one time-step with reward $r = \\mathcal{R}_{s,a}$. The expected reward is \n",
    "\n",
    "$$J(\\theta) = \\mathbb{E}_{\\pi_{\\theta}}[r]\n",
    "            = \\sum_{s \\in \\mathcal{S}}{d(s) \\sum_{a \\in \\mathcal{A}}{\\pi_\\theta(s,a)\\mathcal{R}_{s,a}}}$$\n",
    "\n",
    "Then we can use likelihood ratios to compute the policy gradient.\n",
    "\n",
    "$$\\nabla_\\theta J(\\theta) = \\sum_{s \\in \\mathcal{S}}{d(s) \\sum_{a \\in \\mathcal{A}}{\\pi_\\theta(s,a) \\nabla_\\theta log(\\pi_\\theta(s,a))\\mathcal{R}_{s,a}}} = \\mathbb{E}_{\\pi_{\\theta}}[\\nabla_\\theta log(\\pi_\\theta(s,a)) r]$$\n",
    "\n",
    "By generalising the likelihood ratio approach to multi-step MDPs and replace instataneous reward $r$ by long-term value $Q^{\\pi_\\theta}(s,a)$, we can get policy gradient theorem.\n",
    "\n",
    "**Theorem** For any differentiable policy  $\\pi_\\theta(s,a)$, for any of the policy objective functions $J = J_1$, $J_{average\\_reward}$ or $\\frac{1}{1-\\gamma}J_{average\\_value}$ , the policy gradient is \n",
    "$$\\nabla_\\theta J(\\theta) = \\mathbb{E}_{\\pi_{\\theta}}[\\nabla_\\theta log(\\pi_\\theta(s,a)) Q^{\\pi_\\theta}(s,a)]$$\n",
    "\n",
    "In practice, we just update our parameters according to this formula.\n"
   ]
  },
  {
   "cell_type": "markdown",
   "metadata": {},
   "source": [
    "\n",
    "\n",
    "## Implementation\n",
    "Here we use an algorithm called REINFORCE, which is a Monte-Carlo version of policy gradient. The idea is to sample some transitions and update parameters by policy gradient. We can use returned reward as an unbiased estimation of $Q^{\\pi_\\theta}(s,a)$ in the theorem above.\n",
    "\n",
    "First, we define a class to store the transitions (observation, action, reward) in a whole episode. They are the training data for policy network."
   ]
  },
  {
   "cell_type": "code",
   "execution_count": 1,
   "metadata": {},
   "outputs": [],
   "source": [
    "import gym\n",
    "import numpy as np\n",
    "import mxnet as mx\n",
    "from mxnet import nd, autograd, gluon\n",
    "\n",
    "class Episode:\n",
    "    def __init__(self):\n",
    "        self.observation = []\n",
    "        self.action = []\n",
    "        self.reward = []\n",
    "\n",
    "    def append(self, s, a, r):\n",
    "        self.observation.append(s)\n",
    "        self.action.append(a)\n",
    "        self.reward.append(r)"
   ]
  },
  {
   "cell_type": "markdown",
   "metadata": {},
   "source": [
    "Next, we can define the agent. It uses a multilayer perceptron with 200 hidden units as its policy network.\n",
    "When inferring action, we do a softmax over the output to get the policy $\\pi$ and sample an action from $\\pi$.\n",
    "\n",
    "As for trainning, we need do some pre-precess to the reward. An immediate reward is not only  resulted by a single action, but also by actions taken several steps before, so a discounted factor $\\lambda$ is introduced to assign discounted reward to previous actions. Besides, in order to reduce variance, it's a common trick to substract a baseline function from the reward. Here we only use a simple empirical mean as baseline, more advaned methods may also train a network to predict this baseline. Finally, we utilize the autograd in gluon to compute gradient. You can see there is a minus sign in the loss function. The reason is that the trainer minimizes loss by default, but we want to maximize the cumulative reward. Thus a minus sign is necessary."
   ]
  },
  {
   "cell_type": "code",
   "execution_count": 8,
   "metadata": {},
   "outputs": [],
   "source": [
    "class Agent:\n",
    "    def __init__(self, action_space, ctx):\n",
    "        self.action_number = action_space.n\n",
    "\n",
    "        # define a MLP\n",
    "        net = gluon.nn.Sequential()\n",
    "        with net.name_scope():\n",
    "            net.add(gluon.nn.Flatten())\n",
    "            net.add(gluon.nn.Dense(200, activation='relu'))\n",
    "            net.add(gluon.nn.Dense(self.action_number))\n",
    "\n",
    "        net.collect_params().initialize(mx.init.Xavier(magnitude=0.5), ctx=ctx)\n",
    "        self.trainer = gluon.Trainer(net.collect_params(), 'adam',\n",
    "                                    {'learning_rate': 1e-3})\n",
    "\n",
    "        self.net = net\n",
    "        self.ctx = ctx\n",
    "\n",
    "    def act(self, observation):\n",
    "        # transform a single observation to a batch, necessary for shape inference\n",
    "        observation = [observation]\n",
    "        obs = mx.nd.array(observation, ctx=self.ctx)\n",
    "\n",
    "        policy = self.net(obs)[0] # get the first item of return batch\n",
    "        policy = mx.nd.softmax(policy).asnumpy()\n",
    "\n",
    "        return np.random.choice(np.arange(self.action_number), p=policy)\n",
    "\n",
    "    def train(self, episode):\n",
    "        s, a, r = episode.observation, episode.action, episode.reward\n",
    "\n",
    "        # discount reward\n",
    "        discount = 0.99\n",
    "        keep = 0\n",
    "        for i in reversed(range(len(r))):\n",
    "            keep = keep * discount + r[i]\n",
    "            r[i] = keep\n",
    "\n",
    "        s = mx.nd.array(s, ctx=self.ctx)\n",
    "        a = mx.nd.array(a, ctx=self.ctx).one_hot(self.action_number)\n",
    "        r = mx.nd.array(r, ctx=self.ctx).reshape((len(r), 1))\n",
    "\n",
    "        # substract baseline\n",
    "        r -= mx.nd.mean(r)\n",
    "\n",
    "        # forward\n",
    "        with autograd.record():\n",
    "            output = self.net(s)\n",
    "            policy = mx.nd.softmax(output)\n",
    "            policy = mx.nd.clip(policy, 1e-6, 1 - 1e-6) # clip for log\n",
    "            log_policy = mx.nd.log(policy)\n",
    "            loss = -mx.nd.sum(r * log_policy * a)\n",
    "\n",
    "        loss.backward()\n",
    "        self.trainer.step(len(s))"
   ]
  },
  {
   "cell_type": "markdown",
   "metadata": {},
   "source": [
    "The following is the function to collect transitions by simulating an episode. Since the policy gradient is an on-policy method, we should collect transitions by following the current policy."
   ]
  },
  {
   "cell_type": "code",
   "execution_count": 9,
   "metadata": {},
   "outputs": [],
   "source": [
    "def run_episode(env, agent, render):\n",
    "    episode = Episode()\n",
    "\n",
    "    observation = env.reset()\n",
    "    done = False\n",
    "    while not done:\n",
    "        action = agent.act(observation)\n",
    "        next_observation, reward, done, _ = env.step(action)\n",
    "        episode.append(observation, action, reward)\n",
    "\n",
    "        observation = next_observation\n",
    "        if render:\n",
    "            env.render()\n",
    "\n",
    "    return episode"
   ]
  },
  {
   "cell_type": "markdown",
   "metadata": {},
   "source": [
    "Once we get every part done, it is time to begin the training loop.  (4 mins on MacBook Pro)"
   ]
  },
  {
   "cell_type": "code",
   "execution_count": 10,
   "metadata": {
    "scrolled": true
   },
   "outputs": [
    {
     "name": "stdout",
     "output_type": "stream",
     "text": [
      "observation space : Box(4,)\n",
      "action space : Discrete(2)\n",
      "episode: 0  reward: 15.00  mean reward: 15.00\n",
      "episode: 50  reward: 50.00  mean reward: 19.05\n",
      "episode: 100  reward: 16.00  mean reward: 23.03\n",
      "episode: 150  reward: 75.00  mean reward: 30.98\n",
      "episode: 200  reward: 132.00  mean reward: 51.49\n",
      "episode: 250  reward: 500.00  mean reward: 131.17\n",
      "episode: 300  reward: 500.00  mean reward: 253.50\n",
      "episode: 350  reward: 500.00  mean reward: 333.18\n",
      "episode: 400  reward: 348.00  mean reward: 385.56\n",
      "episode: 450  reward: 500.00  mean reward: 425.69\n",
      "episode: 500  reward: 500.00  mean reward: 440.79\n",
      "episode: 550  reward: 483.00  mean reward: 455.47\n",
      "episode: 600  reward: 500.00  mean reward: 454.21\n",
      "episode: 650  reward: 500.00  mean reward: 471.28\n",
      "episode: 700  reward: 500.00  mean reward: 474.28\n",
      "episode: 750  reward: 500.00  mean reward: 482.53\n",
      "episode: 800  reward: 500.00  mean reward: 488.84\n",
      "episode: 850  reward: 500.00  mean reward: 489.73\n",
      "episode: 900  reward: 500.00  mean reward: 493.79\n",
      "episode: 950  reward: 500.00  mean reward: 495.51\n",
      "done\n"
     ]
    }
   ],
   "source": [
    "# init environment and agent\n",
    "env = gym.make(\"CartPole-v1\")\n",
    "agent = Agent(env.action_space, mx.cpu())\n",
    "\n",
    "print(\"observation space : {}\".format(env.observation_space))\n",
    "print(\"action space : {}\".format(env.action_space))\n",
    "\n",
    "n_episodes = 1000\n",
    "mean_reward = 0\n",
    "reward_log = []\n",
    "\n",
    "for i in range(n_episodes):\n",
    "    # collect transitions\n",
    "    episode = run_episode(env, agent, render=False)\n",
    "    reward = sum(episode.reward)\n",
    "\n",
    "    # save moving average of episode reward for plotting\n",
    "    if i == 0:\n",
    "        mean_reward = reward\n",
    "    else:\n",
    "        mean_reward = 0.99 * mean_reward + 0.01 * reward\n",
    "    reward_log.append(mean_reward)\n",
    "\n",
    "    # train the agent\n",
    "    agent.train(episode)\n",
    "\n",
    "    if i % 50 == 0:\n",
    "        print(\"episode: %d  reward: %.2f  mean reward: %.2f\" %\n",
    "                (i, reward, mean_reward))\n",
    "    \n",
    "print(\"done\")"
   ]
  },
  {
   "cell_type": "markdown",
   "metadata": {},
   "source": [
    "## Plot Learning Curve\n",
    "The reward curve can be plotted as follows"
   ]
  },
  {
   "cell_type": "code",
   "execution_count": 11,
   "metadata": {},
   "outputs": [
    {
     "data": {
      "image/png": "[encoded data removed]",
      "text/plain": [
       "<matplotlib.figure.Figure at 0x7f47094a6990>"
      ]
     },
     "metadata": {},
     "output_type": "display_data"
    }
   ],
   "source": [
    "# plot reward\n",
    "import matplotlib.pyplot as plt\n",
    "plt.plot(reward_log)\n",
    "plt.legend([\"mean reward\"])\n",
    "plt.show()"
   ]
  },
  {
   "cell_type": "markdown",
   "metadata": {},
   "source": [
    "## More Complex Environment\n",
    "In order to solve more complex environment like Atari game Pong. There are just several modifications you should do. The network part can even be the same, you only need to pre-process the input image of Atari games. The following is an example.\n",
    "But this brute force policy gradient will cost a lot of training time, you'd better try other advanced methods like A3C to save you time and get better performance.\n",
    "\n",
    "In fact, this tutorial reference some parts of [this blog post](http://karpathy.github.io/2016/05/31/rl/) by Andrej Karpathy. Our network structure are the same. So I also recommond you to read throught it and see what will happen when solving Pong."
   ]
  },
  {
   "cell_type": "code",
   "execution_count": 7,
   "metadata": {},
   "outputs": [],
   "source": [
    "class AtariPreprocessedEnv:\n",
    "    \"\"\" A warper for atari game environment.\n",
    "    To use this warpper, replace 'env = gym.make(\"CartPole-v1\")' with \n",
    "    'env = AtariPreprocessedEnv()' and paste the definition of this warpper\n",
    "    before that statement (class should be defined before use)\n",
    "    \"\"\"\n",
    "    def __init__(self, name=\"PongDeterministic-v0\"):\n",
    "        self.env = gym.make(name)\n",
    "        self.action_space = self.env.action_space\n",
    "        self.observation_space = (80*80,)\n",
    "\n",
    "        self.pre_image = None\n",
    "\n",
    "    def _preprocess(self, img):\n",
    "        \"\"\" transform a 210x160x3 uint8 image to a 6400x1 float vector \n",
    "        Crop, down-sample, erase background and set foreground to 1\n",
    "        ref: https://gist.github.com/karpathy/a4166c7fe253700972fcbc77e4ea32c5\n",
    "        \"\"\"\n",
    "        img = img[35:195]\n",
    "        img = img[::2, ::2, 0]\n",
    "        img[img == 144] = 0\n",
    "        img[img == 109] = 0\n",
    "        img[img != 0] = 1\n",
    "        curr = img.astype(np.float).ravel()\n",
    "        # Subtract the last preprocessed image.\n",
    "        diff = (curr - self.pre_image if self.pre_image is not None\n",
    "                else np.zeros_like(curr))\n",
    "        self.pre_image = curr\n",
    "        return diff\n",
    "\n",
    "    def reset(self):\n",
    "        self.pre_image = None\n",
    "        return self._preprocess(self.env.reset())\n",
    "\n",
    "    def step(self, action):\n",
    "        o, r, d, i = self.env.step(action)\n",
    "        return self._preprocess(o), r, d, i\n",
    "\n",
    "    def render(self):\n",
    "        self.env.render()"
   ]
  },
  {
   "cell_type": "markdown",
   "metadata": {},
   "source": [
    "For whinges or inquiries, [open an issue on GitHub.](https://github.com/zackchase/mxnet-the-straight-dope)"
   ]
  },
  {
   "cell_type": "code",
   "execution_count": null,
   "metadata": {},
   "outputs": [],
   "source": []
  }
 ],
 "metadata": {
  "kernelspec": {
   "display_name": "Python 3",
   "language": "python",
   "name": "python3"
  },
  "language_info": {
   "codemirror_mode": {
    "name": "ipython",
    "version": 2
   },
   "file_extension": ".py",
   "mimetype": "text/x-python",
   "name": "python",
   "nbconvert_exporter": "python",
   "pygments_lexer": "ipython2",
   "version": "2.7.12"
  }
 },
 "nbformat": 4,
 "nbformat_minor": 2
}
